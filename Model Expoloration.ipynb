{
 "cells": [
  {
   "cell_type": "code",
   "execution_count": 25,
   "metadata": {
    "collapsed": true
   },
   "outputs": [],
   "source": [
    "from __future__ import division\n",
    "from sklearn.ensemble import RandomForestRegressor, GradientBoostingRegressor\n",
    "from sklearn.linear_model import LinearRegression, Ridge, Lasso\n",
    "from sklearn.neighbors import KNeighborsRegressor\n",
    "from sklearn.preprocessing import StandardScaler, Normalizer, PolynomialFeatures\n",
    "from sklearn.svm import SVR\n",
    "from datetime import datetime\n",
    "import numpy as np\n",
    "import pandas as pd\n",
    "from sklearn import cross_validation, linear_model\n",
    "import matplotlib.pyplot as plt\n",
    "from sklearn.lda import LDA\n",
    "from sklearn import metrics\n",
    "import numpy as np\n",
    "from sklearn.lda import LDA\n",
    "from sklearn.pipeline import Pipeline"
   ]
  },
  {
   "cell_type": "code",
   "execution_count": 26,
   "metadata": {
    "collapsed": true
   },
   "outputs": [],
   "source": [
    "bike_sharing_demand = pd.read_csv('./data/input/train.csv')\n",
    "prediction_data = pd.read_csv('data/input/test.csv')\n",
    "train_data, train_labels = bike_sharing_demand.ix[:, 'datetime':'windspeed'], bike_sharing_demand.ix[:, 'casual':]\n",
    "prediction_data = prediction_data.ix[:, 'datetime':'windspeed']\n",
    "np.random.seed(0)\n",
    "shuffle = np.random.permutation(np.arange(train_data.shape[0]))\n",
    "mini_bike_sharing = bike_sharing_demand.ix[shuffle[:100], :]\n",
    "mini_train_data, mini_train_labels = mini_bike_sharing.ix[:, 'datetime':'windspeed'], mini_bike_sharing.ix[:, 'casual':]\n",
    "# Let's extract the information\n",
    "for dataset in (train_data, prediction_data):\n",
    "    dataset['hour'] = dataset['datetime'].map(lambda x: (datetime.strptime(x, \"%Y-%m-%d %H:%M:%S\")).hour)\n",
    "    dataset['weekday'] = dataset['datetime'].map(lambda x: (datetime.strptime(x, \"%Y-%m-%d %H:%M:%S\")).weekday())\n",
    "    dataset['month'] = dataset['datetime'].map(lambda x: (datetime.strptime(x, \"%Y-%m-%d %H:%M:%S\")).month)\n",
    "    dataset['year'] = dataset['datetime'].map(lambda x: (datetime.strptime(x, \"%Y-%m-%d %H:%M:%S\")).year)\n",
    "\n",
    "cv = cross_validation.ShuffleSplit(train_data.shape[0], n_iter=10, random_state=0)\n",
    "np.random.seed(0)"
   ]
  },
  {
   "cell_type": "code",
   "execution_count": 27,
   "metadata": {
    "collapsed": true
   },
   "outputs": [],
   "source": [
    "# Define the Root-Mean-Squared-Log Error function for scoring predictions\n",
    "def rmsle(actual_values, predicted_values):\n",
    "    squared_log_errors = (np.log(np.array(predicted_values) + 1) - np.log(np.array(actual_values) + 1)) ** 2\n",
    "    mean_squared_errors = np.nansum(squared_log_errors) / len(squared_log_errors)\n",
    "    return np.sqrt(mean_squared_errors)"
   ]
  },
  {
   "cell_type": "markdown",
   "metadata": {},
   "source": [
    "# LDA "
   ]
  },
  {
   "cell_type": "code",
   "execution_count": 28,
   "metadata": {
    "collapsed": false
   },
   "outputs": [
    {
     "name": "stdout",
     "output_type": "stream",
     "text": [
      "Mean Score for LDA model : 0.499600147744\n"
     ]
    }
   ],
   "source": [
    "clf_lda = Pipeline(steps=[\n",
    "    ('scaler', StandardScaler()),\n",
    "    ('normalizer', Normalizer()),\n",
    "    ('model', LDA())\n",
    "])\n",
    "\n",
    "for i, (train_index, test_index) in enumerate(cv):\n",
    "    x_train, y_train = train_data.ix[train_index, 'season':], train_labels.ix[train_index, 'count']\n",
    "    x_test, y_test = train_data.ix[test_index, 'season':], train_labels.ix[test_index, 'count']\n",
    "    clf_lda.fit(x_train, y_train)\n",
    "    predicted_values = clf_lda.predict(x_test)\n",
    "    #print(\"Cross-Validated Error Loop LDA  {0}: {1}\".format(i, bikeStandardizeData.rmsle(y_test, predicted_values)))\n",
    "    scores.append(clf_lda.score(x_test, y_test))\n",
    "\n",
    "#print scores\n",
    "#print [score for score in scores]\n",
    "print(\"Mean Score for LDA model : {}\".format(np.mean(scores)))\n"
   ]
  },
  {
   "cell_type": "markdown",
   "metadata": {},
   "source": [
    "# Linear Model"
   ]
  },
  {
   "cell_type": "code",
   "execution_count": 29,
   "metadata": {
    "collapsed": false
   },
   "outputs": [
    {
     "name": "stdout",
     "output_type": "stream",
     "text": [
      "Mean Score for linear model : 0.385857244125\n"
     ]
    }
   ],
   "source": [
    "clf_linear = Pipeline(steps=[\n",
    "    ('scaler', StandardScaler()),\n",
    "    ('normalizer', Normalizer()),\n",
    "    ('model', LinearRegression())\n",
    "])\n",
    "\n",
    "scores = []\n",
    "#cv, train_data, train_labels = bikeStandardizeData.readData()\n",
    "for i, (train_index, test_index) in enumerate(cv):\n",
    "    x_train, y_train = train_data.ix[train_index, 'season':], train_labels.ix[train_index, 'count']\n",
    "    x_test, y_test = train_data.ix[test_index, 'season':], train_labels.ix[test_index, 'count']\n",
    "    clf_linear.fit(x_train, y_train)\n",
    "    predicted_values = clf_linear.predict(x_test)\n",
    "    # print(\"Cross-Validated Error Loop Linear  {0}: {1}\".format(i, bikeStandardizeData.rmsle(y_test, predicted_values)))\n",
    "    scores.append(clf_linear.score(x_test, y_test))\n",
    "\n",
    "# print scores\n",
    "#print [score for score in scores]\n",
    "print(\"Mean Score for linear model : {}\".format(np.mean(scores)))"
   ]
  },
  {
   "cell_type": "markdown",
   "metadata": {},
   "source": [
    "#Polynomial Regression with degree 3"
   ]
  },
  {
   "cell_type": "code",
   "execution_count": 30,
   "metadata": {
    "collapsed": false
   },
   "outputs": [
    {
     "name": "stdout",
     "output_type": "stream",
     "text": [
      "Mean Score for Polynomial  model : 0.500183337095\n"
     ]
    }
   ],
   "source": [
    "clf_poly = Pipeline(steps=[\n",
    "    ('scaler', StandardScaler()),\n",
    "    ('normalizer', Normalizer()),\n",
    "    ('poly', PolynomialFeatures(degree=3)),\n",
    "    ('model', LinearRegression())\n",
    "])\n",
    "\n",
    "for i, (train_index, test_index) in enumerate(cv):\n",
    "    x_train, y_train = train_data.ix[train_index, 'season':], train_labels.ix[train_index, 'count']\n",
    "    x_test, y_test = train_data.ix[test_index, 'season':], train_labels.ix[test_index, 'count']\n",
    "    clf_poly.fit(x_train, y_train)\n",
    "    predicted_values = clf_poly.predict(x_test)\n",
    "    #print(\"Cross-Validated Error Loop KNN  {0}: {1}\".format(i, bikeStandardizeData.rmsle(y_test, predicted_values)))\n",
    "    scores.append(clf_poly.score(x_test, y_test))\n",
    "\n",
    "#print scores\n",
    "#print [score for score in scores]\n",
    "print(\"Mean Score for Polynomial  model : {}\".format(np.mean(scores)))"
   ]
  },
  {
   "cell_type": "markdown",
   "metadata": {},
   "source": [
    "#KNN Regressor"
   ]
  },
  {
   "cell_type": "code",
   "execution_count": 31,
   "metadata": {
    "collapsed": false
   },
   "outputs": [
    {
     "name": "stdout",
     "output_type": "stream",
     "text": [
      "Mean Score for KNN model : 0.543411500089\n"
     ]
    }
   ],
   "source": [
    "clf_knn = Pipeline(steps=[\n",
    "    ('scaler', StandardScaler()),\n",
    "    ('normalizer', Normalizer()),\n",
    "    ('model', KNeighborsRegressor(n_neighbors=5))\n",
    "])\n",
    "\n",
    "for i, (train_index, test_index) in enumerate(cv):\n",
    "    x_train, y_train = train_data.ix[train_index, 'season':], train_labels.ix[train_index, 'count']\n",
    "    x_test, y_test = train_data.ix[test_index, 'season':], train_labels.ix[test_index, 'count']\n",
    "    clf_knn.fit(x_train, y_train)\n",
    "    predicted_values = clf_knn.predict(x_test)\n",
    "    #print(\"Cross-Validated Error Loop KNN  {0}: {1}\".format(i, bikeStandardizeData.rmsle(y_test, predicted_values)))\n",
    "    scores.append(clf_knn.score(x_test, y_test))\n",
    "\n",
    "#print scores\n",
    "#print [score for score in scores]\n",
    "print(\"Mean Score for KNN model : {}\".format(np.mean(scores)))\n"
   ]
  },
  {
   "cell_type": "markdown",
   "metadata": {},
   "source": [
    "# Ridge Regression with polynomial features with degree 3"
   ]
  },
  {
   "cell_type": "code",
   "execution_count": 32,
   "metadata": {
    "collapsed": false
   },
   "outputs": [
    {
     "name": "stdout",
     "output_type": "stream",
     "text": [
      "Mean Score for Ridge  model : 0.560505452821\n"
     ]
    }
   ],
   "source": [
    "clf_ridge = Pipeline(steps=[\n",
    "    ('scaler', StandardScaler()),\n",
    "    ('normalizer', Normalizer()),\n",
    "    ('poly', PolynomialFeatures(degree=3)),\n",
    "    ('model', Ridge(alpha=0.5, copy_X=True, fit_intercept=True, max_iter=None,\n",
    "                    normalize=False, solver='auto', tol=0.001))\n",
    "])\n",
    "\n",
    "for i, (train_index, test_index) in enumerate(cv):\n",
    "    x_train, y_train = train_data.ix[train_index, 'season':], train_labels.ix[train_index, 'count']\n",
    "    x_test, y_test = train_data.ix[test_index, 'season':], train_labels.ix[test_index, 'count']\n",
    "    clf_ridge.fit(x_train, y_train)\n",
    "    predicted_values = clf_ridge.predict(x_test)\n",
    "    #print(\"Cross-Validated Error Loop KNN  {0}: {1}\".format(i, bikeStandardizeData.rmsle(y_test, predicted_values)))\n",
    "    scores.append(clf_ridge.score(x_test, y_test))\n",
    "\n",
    "#print scores\n",
    "#print [score for score in scores]\n",
    "print(\"Mean Score for Ridge  model : {}\".format(np.mean(scores)))"
   ]
  },
  {
   "cell_type": "markdown",
   "metadata": {},
   "source": [
    "# Lasso with Polynomial features with degree 3"
   ]
  },
  {
   "cell_type": "code",
   "execution_count": 33,
   "metadata": {
    "collapsed": false
   },
   "outputs": [
    {
     "name": "stdout",
     "output_type": "stream",
     "text": [
      "Mean Score for Lasso  model : 0.566113620985\n"
     ]
    }
   ],
   "source": [
    "clf_lasso = Pipeline(steps=[\n",
    "    ('scaler', StandardScaler()),\n",
    "    ('normalizer', Normalizer()),\n",
    "    ('poly', PolynomialFeatures(degree=3)),\n",
    "    ('model', Lasso(alpha=0.1, copy_X=True, fit_intercept=True, max_iter=1000,\n",
    "                    normalize=False, positive=False, precompute=False,\n",
    "                    tol=0.0001, warm_start=False))\n",
    "])\n",
    "\n",
    "for i, (train_index, test_index) in enumerate(cv):\n",
    "    x_train, y_train = train_data.ix[train_index, 'season':], train_labels.ix[train_index, 'count']\n",
    "    x_test, y_test = train_data.ix[test_index, 'season':], train_labels.ix[test_index, 'count']\n",
    "    clf_lasso.fit(x_train, y_train)\n",
    "    predicted_values = clf_lasso.predict(x_test)\n",
    "    #print(\"Cross-Validated Error Loop KNN  {0}: {1}\".format(i, bikeStandardizeData.rmsle(y_test, predicted_values)))\n",
    "    scores.append(clf_lasso.score(x_test, y_test))\n",
    "\n",
    "#print scores\n",
    "#print [score for score in scores]\n",
    "print(\"Mean Score for Lasso  model : {}\".format(np.mean(scores)))\n"
   ]
  },
  {
   "cell_type": "markdown",
   "metadata": {},
   "source": [
    "   # Support Vector Regression - RBF"
   ]
  },
  {
   "cell_type": "code",
   "execution_count": 34,
   "metadata": {
    "collapsed": false
   },
   "outputs": [
    {
     "name": "stdout",
     "output_type": "stream",
     "text": [
      "Mean Score for clf_svrbf : 0.555016156543\n"
     ]
    }
   ],
   "source": [
    "\n",
    "clf_svrbf = Pipeline(steps=[\n",
    "    ('scaler', StandardScaler()),\n",
    "    ('normalizer', Normalizer()),\n",
    "    ('model', SVR(kernel='rbf', C=1e3, gamma=0.1))\n",
    "])\n",
    "for i, (train_index, test_index) in enumerate(cv):\n",
    "    x_train, y_train = train_data.ix[train_index, 'season':], train_labels.ix[train_index, 'count']\n",
    "    x_test, y_test = train_data.ix[test_index, 'season':], train_labels.ix[test_index, 'count']\n",
    "    clf_svrbf.fit(x_train, y_train)\n",
    "    predicted_values = clf_svrbf.predict(x_test)\n",
    "    #print(\"Cross-Validated Error Loop KNN  {0}: {1}\".format(i, bikeStandardizeData.rmsle(y_test, predicted_values)))\n",
    "    scores.append(clf_svrbf.score(x_test, y_test))\n",
    "\n",
    "#print scores\n",
    "#print [score for score in scores]\n",
    "print(\"Mean Score for clf_svrbf : {}\".format(np.mean(scores)))"
   ]
  },
  {
   "cell_type": "markdown",
   "metadata": {},
   "source": [
    "#Support Vector Regression - Linear Kernel"
   ]
  },
  {
   "cell_type": "code",
   "execution_count": 35,
   "metadata": {
    "collapsed": false
   },
   "outputs": [
    {
     "name": "stdout",
     "output_type": "stream",
     "text": [
      "Mean Score for clf_svrlin : 0.522593321198\n"
     ]
    }
   ],
   "source": [
    "clf_svrlin = Pipeline(steps=[\n",
    "    ('scaler', StandardScaler()),\n",
    "    ('normalizer', Normalizer()),\n",
    "    ('model', SVR(kernel='linear', C=1e3))\n",
    "])\n",
    "\n",
    "for i, (train_index, test_index) in enumerate(cv):\n",
    "    x_train, y_train = train_data.ix[train_index, 'season':], train_labels.ix[train_index, 'count']\n",
    "    x_test, y_test = train_data.ix[test_index, 'season':], train_labels.ix[test_index, 'count']\n",
    "    clf_svrlin.fit(x_train, y_train)\n",
    "    predicted_values = clf_svrlin.predict(x_test)\n",
    "    #print(\"Cross-Validated Error Loop KNN  {0}: {1}\".format(i, bikeStandardizeData.rmsle(y_test, predicted_values)))\n",
    "    scores.append(clf_svrlin.score(x_test, y_test))\n",
    "\n",
    "#print scores\n",
    "#print [score for score in scores]\n",
    "print(\"Mean Score for clf_svrlin : {}\".format(np.mean(scores)))"
   ]
  },
  {
   "cell_type": "markdown",
   "metadata": {},
   "source": [
    "#Support Vector Regression - Polynomial Kernel"
   ]
  },
  {
   "cell_type": "code",
   "execution_count": 36,
   "metadata": {
    "collapsed": false
   },
   "outputs": [
    {
     "name": "stdout",
     "output_type": "stream",
     "text": [
      "Mean Score for clf_svrpoly : 0.493094327572\n"
     ]
    }
   ],
   "source": [
    "clf_svrpoly = Pipeline(steps=[\n",
    "    ('scaler', StandardScaler()),\n",
    "    ('normalizer', Normalizer()),\n",
    "    ('model', SVR(kernel='poly', C=1e3, degree=3))\n",
    "])\n",
    "\n",
    "for i, (train_index, test_index) in enumerate(cv):\n",
    "    x_train, y_train = train_data.ix[train_index, 'season':], train_labels.ix[train_index, 'count']\n",
    "    x_test, y_test = train_data.ix[test_index, 'season':], train_labels.ix[test_index, 'count']\n",
    "    clf_svrpoly.fit(x_train, y_train)\n",
    "    predicted_values = clf_svrpoly.predict(x_test)\n",
    "    #print(\"Cross-Validated Error Loop KNN  {0}: {1}\".format(i, bikeStandardizeData.rmsle(y_test, predicted_values)))\n",
    "    scores.append(clf_svrpoly.score(x_test, y_test))\n",
    "\n",
    "#print scores\n",
    "#print [score for score in scores]\n",
    "print(\"Mean Score for clf_svrpoly : {}\".format(np.mean(scores)))"
   ]
  },
  {
   "cell_type": "markdown",
   "metadata": {},
   "source": [
    "#Random Forest Regressor"
   ]
  },
  {
   "cell_type": "code",
   "execution_count": 37,
   "metadata": {
    "collapsed": false
   },
   "outputs": [
    {
     "name": "stdout",
     "output_type": "stream",
     "text": [
      "Mean Score for clf_rf : 0.53968546637\n"
     ]
    }
   ],
   "source": [
    "rf = RandomForestRegressor(random_state=0, n_estimators=100)\n",
    "clf_rf = Pipeline(steps=[\n",
    "    ('scaler', StandardScaler()),\n",
    "    ('normalizer', Normalizer()),\n",
    "    ('model', rf)\n",
    "])\n",
    "\n",
    "for i, (train_index, test_index) in enumerate(cv):\n",
    "    x_train, y_train = train_data.ix[train_index, 'season':], train_labels.ix[train_index, 'count']\n",
    "    x_test, y_test = train_data.ix[test_index, 'season':], train_labels.ix[test_index, 'count']\n",
    "    clf_rf.fit(x_train, y_train)\n",
    "    predicted_values = clf_rf.predict(x_test)\n",
    "    #print(\"Cross-Validated Error Loop KNN  {0}: {1}\".format(i, bikeStandardizeData.rmsle(y_test, predicted_values)))\n",
    "    scores.append(clf_rf.score(x_test, y_test))\n",
    "\n",
    "#print scores\n",
    "#print [score for score in scores]\n",
    "print(\"Mean Score for clf_rf : {}\".format(np.mean(scores)))\n"
   ]
  },
  {
   "cell_type": "markdown",
   "metadata": {},
   "source": [
    "# Gradient Boosting Regressor"
   ]
  },
  {
   "cell_type": "code",
   "execution_count": 38,
   "metadata": {
    "collapsed": false
   },
   "outputs": [
    {
     "name": "stdout",
     "output_type": "stream",
     "text": [
      "Mean Score for clf_gbm : 0.565670349171\n"
     ]
    }
   ],
   "source": [
    "gbm = GradientBoostingRegressor(loss='ls', alpha=0.95, n_estimators=500, max_depth=4, learning_rate=.01,\n",
    "                                min_samples_leaf=9, min_samples_split=9)\n",
    "\n",
    "clf_gbm = Pipeline(steps=[\n",
    "    ('scaler', StandardScaler()),\n",
    "    ('normalizer', Normalizer()),\n",
    "    ('model', gbm)\n",
    "])\n",
    "\n",
    "for i, (train_index, test_index) in enumerate(cv):\n",
    "    x_train, y_train = train_data.ix[train_index, 'season':], train_labels.ix[train_index, 'count']\n",
    "    x_test, y_test = train_data.ix[test_index, 'season':], train_labels.ix[test_index, 'count']\n",
    "    clf_gbm.fit(x_train, y_train)\n",
    "    predicted_values = clf_gbm.predict(x_test)\n",
    "    #print(\"Cross-Validated Error Loop KNN  {0}: {1}\".format(i, bikeStandardizeData.rmsle(y_test, predicted_values)))\n",
    "    scores.append(clf_gbm.score(x_test, y_test))\n",
    "\n",
    "#print scores\n",
    "#print [score for score in scores]\n",
    "print(\"Mean Score for clf_gbm : {}\".format(np.mean(scores)))\n"
   ]
  },
  {
   "cell_type": "code",
   "execution_count": null,
   "metadata": {
    "collapsed": true
   },
   "outputs": [],
   "source": []
  }
 ],
 "metadata": {
  "kernelspec": {
   "display_name": "Python 2",
   "language": "python",
   "name": "python2"
  },
  "language_info": {
   "codemirror_mode": {
    "name": "ipython",
    "version": 2
   },
   "file_extension": ".py",
   "mimetype": "text/x-python",
   "name": "python",
   "nbconvert_exporter": "python",
   "pygments_lexer": "ipython2",
   "version": "2.7.8"
  }
 },
 "nbformat": 4,
 "nbformat_minor": 0
}
